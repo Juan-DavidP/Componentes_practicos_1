{
 "cells": [
  {
   "cell_type": "markdown",
   "metadata": {},
   "source": [
    "# Fundamentos de Programación con Python\n",
    "\n",
    "## Condicionales\n",
    "\n",
    "### Si-Sino-Finsi\n",
    "Recuerda que los condicionales nos permiten decidir qué instrucciones ejecutar y cuales no. El condicional Si-Sino-Finsi tiene la siguiente estructura:\n",
    "\n",
    "    Si (condición) Entonces\n",
    "        instrucción(es)\n",
    "    Sino\n",
    "        instrucción(es)\n",
    "    Fin Si\n",
    "\n",
    "En Python, esto se escribe un poco diferente y la estructura general depende de las tabulaciónes. Por ejemplo:"
   ]
  },
  {
   "cell_type": "code",
   "execution_count": 1,
   "metadata": {},
   "outputs": [
    {
     "name": "stdout",
     "output_type": "stream",
     "text": [
      "X es Positivo\n",
      "Esto ya está por fuera del condicional\n"
     ]
    }
   ],
   "source": [
    "x = int(input(\"Por favor ingresa un número: \"))\n",
    "if x<0:\n",
    "    print('X es Negativo')\n",
    "else:\n",
    "    print('X es Positivo')\n",
    "\n",
    "print('Esto ya está por fuera del condicional') #Esta fuera porque ya no hay tabulación"
   ]
  },
  {
   "cell_type": "markdown",
   "metadata": {},
   "source": [
    "¿Qué pasa si X es 0? ¿Imprimirá positivo o negativo? ¿Cómo podríamos arreglar este programa para que si X es cero, imprima \"X es cero\"?\n",
    "\n"
   ]
  },
  {
   "cell_type": "code",
   "execution_count": 2,
   "metadata": {},
   "outputs": [
    {
     "name": "stdout",
     "output_type": "stream",
     "text": [
      "El número ingresado es 0\n"
     ]
    }
   ],
   "source": [
    "x = int(input(\"Por favor ingresa un número: \"))\n",
    "if x < 0:\n",
    "    print(\"Es negativo\")\n",
    "elif x == 0:\n",
    "    print(\"El número ingresado es 0\")\n",
    "else:\n",
    "    print(\"Es positivo\")"
   ]
  },
  {
   "cell_type": "markdown",
   "metadata": {},
   "source": [
    "### Operadores lógicos en Python\n",
    "\n",
    "Antes de pasar a usar condicionales, debemos entender como manejar los operadores lógicos (y/o) en Python para poder evaluar múltiples expresiones al tiempo.\n",
    "\n",
    "En Python, los operadores lógicos son las palabras en inglés: and y or. Estos operadores nos permiten analizar múltiples expresiones. \n",
    "\n",
    "<table>\n",
    "<thead><tr>\n",
    "<th>P    </th>\n",
    "<th>Q    </th>\n",
    "<th>P And Q</th>\n",
    "<th>P Or Q</th>\n",
    "</tr>\n",
    "</thead>\n",
    "<tbody>\n",
    "<tr>\n",
    "<td>V</td>\n",
    "<td>V</td>\n",
    "<td>V</td>\n",
    "<td>V</td>\n",
    "</tr>\n",
    "<tr>\n",
    "<td>V</td>\n",
    "<td>F</td>\n",
    "<td>F</td>\n",
    "<td>V</td>\n",
    "</tr>\n",
    "<tr>\n",
    "<td>F</td>\n",
    "<td>V</td>\n",
    "<td>F</td>\n",
    "<td>V</td>\n",
    "</tr>\n",
    "<tr>\n",
    "<td>F</td>\n",
    "<td>F</td>\n",
    "<td>F</td>\n",
    "<td>F</td>\n",
    "</tr>\n",
    "</tbody></table>\n",
    "\n",
    "Aquí está el código Python que evalúa las expresiones"
   ]
  },
  {
   "cell_type": "code",
   "execution_count": 3,
   "metadata": {},
   "outputs": [
    {
     "name": "stdout",
     "output_type": "stream",
     "text": [
      "True True\n",
      "False True\n",
      "False True\n",
      "False False\n"
     ]
    }
   ],
   "source": [
    "print((True and True),(True or True))\n",
    "print((True and False),(True or False))\n",
    "print((False and True), (False or True))\n",
    "print((False and False),(False or False))\n"
   ]
  },
  {
   "cell_type": "markdown",
   "metadata": {},
   "source": [
    "### Actividad 1\n",
    "\n",
    "Primero, vamos a pasar los siguientes pseudo-códigos con condicionales a Python\n",
    "\n",
    "Inicio\n",
    "    \n",
    "    a = leer()\n",
    "    b = leer()\n",
    "       \n",
    "    Si a>2 Entonces\n",
    "        imprimir a\n",
    "    Fin Si\n",
    "    \n",
    "    Si b < 4 Entonces\n",
    "        imprimir a\n",
    "    Fin Si\n",
    "Fin"
   ]
  },
  {
   "cell_type": "code",
   "execution_count": 4,
   "metadata": {},
   "outputs": [
    {
     "name": "stdout",
     "output_type": "stream",
     "text": [
      "3\n",
      "3\n"
     ]
    }
   ],
   "source": [
    "a = int(input(\"Ingrese un número: \"))\n",
    "b = int(input(\"Ingrese un número: \"))\n",
    "\n",
    "if a > 2:\n",
    "    print(a)\n",
    "\n",
    "if b < 4:\n",
    "    print(a)\n"
   ]
  },
  {
   "cell_type": "markdown",
   "metadata": {},
   "source": [
    "Dado que ambos condicionales imprimen a. Podríamos modificar el código para tener un sólo condicional usando los operadores lógicos?"
   ]
  },
  {
   "cell_type": "code",
   "execution_count": 5,
   "metadata": {},
   "outputs": [
    {
     "name": "stdout",
     "output_type": "stream",
     "text": [
      "3\n"
     ]
    }
   ],
   "source": [
    "a = int(input(\"Ingrese un número: \"))\n",
    "b = int(input(\"Ingrese un número: \"))\n",
    "\n",
    "if a > 2 and b < 4:\n",
    "    print(a)"
   ]
  },
  {
   "cell_type": "markdown",
   "metadata": {},
   "source": [
    "### Actividad 2\n",
    "\n",
    "Los operadores lógicos pueden evaluar números y otros tipos de datos.\n",
    "\n",
    "Para ingresar al programa de medicina, el estudiante debe tener diploma de bachiller y ser mayor de 17 años. Creemos el código para validar esta información dadas las variables tieneDiploma (Y/N) y edad (entero)."
   ]
  },
  {
   "cell_type": "code",
   "execution_count": 12,
   "metadata": {},
   "outputs": [
    {
     "name": "stdout",
     "output_type": "stream",
     "text": [
      "Usted puede ingresar al programa de medicina\n"
     ]
    }
   ],
   "source": [
    "diploma = (input(\"Ingrese por favor la letra Y si tiene diploma o la letra N en caso de no tener uno:\")).upper()\n",
    "edad = int(input(\"Ingrese por favor su edad:\"))\n",
    "\n",
    "if diploma == \"Y\" and edad > 17:\n",
    "    print(\"Usted puede ingresar al programa de medicina\")\n",
    "else:\n",
    "    print(\"No cumple con los requisitos para ingresar al programa de medicina\")"
   ]
  },
  {
   "cell_type": "markdown",
   "metadata": {},
   "source": [
    "### Actividad 3\n",
    "\n",
    "Escribe el código para leer un número entero e imprime SI si el último dígito es 4."
   ]
  },
  {
   "cell_type": "code",
   "execution_count": 37,
   "metadata": {},
   "outputs": [
    {
     "name": "stdout",
     "output_type": "stream",
     "text": [
      "SI\n"
     ]
    }
   ],
   "source": [
    "x = input(\"Ingrese un número entero\")\n",
    "if len(x) >= 2:\n",
    "    contador = 0\n",
    "    for i in x:\n",
    "        contador += 1\n",
    "        if contador == len(x):\n",
    "            if i == \"4\":\n",
    "                print(\"SI\")"
   ]
  }
 ],
 "metadata": {
  "kernelspec": {
   "display_name": "Python 3",
   "language": "python",
   "name": "python3"
  },
  "language_info": {
   "codemirror_mode": {
    "name": "ipython",
    "version": 3
   },
   "file_extension": ".py",
   "mimetype": "text/x-python",
   "name": "python",
   "nbconvert_exporter": "python",
   "pygments_lexer": "ipython3",
   "version": "3.10.11"
  }
 },
 "nbformat": 4,
 "nbformat_minor": 4
}
